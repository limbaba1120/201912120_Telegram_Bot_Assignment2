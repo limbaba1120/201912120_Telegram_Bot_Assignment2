{
 "cells": [
  {
   "cell_type": "markdown",
   "metadata": {},
   "source": [
    "# **텔레그램 봇 만들기**\n",
    "### 참고 \n",
    "https://tech.lonpeach.com/2021/02/13/python-telegram-restock-bot/"
   ]
  },
  {
   "cell_type": "markdown",
   "metadata": {},
   "source": [
    "## **_30분 단위로 개설 채널에 메시지 전송 코드_**\n",
    "\n",
    "[과제 코드](./schedules.py)"
   ]
  },
  {
   "cell_type": "markdown",
   "metadata": {},
   "source": [
    "## **_30분단위 결과_**\n",
    "\n",
    "<img src=\"./image/schedule1.png\" width=\"450px\" height=\"300px\"></img><br/>\n",
    "<img src=\"./image/schedule2.png\" width=\"450px\" height=\"300px\"></img><br/>\n",
    "<img src=\"./image/schedule3.png\" width=\"450px\" height=\"50px\"></img><br/>"
   ]
  },
  {
   "cell_type": "markdown",
   "metadata": {},
   "source": [
    "## 텔레그램 봇 개발\n",
    "\n",
    "<img src=\"./image/individualbot.png\" width=\"450px\" height=\"300px\"></img><br/>"
   ]
  },
  {
   "cell_type": "markdown",
   "metadata": {},
   "source": [
    "## 텔레그램 채널 개설\n",
    "\n",
    "<img src=\"./image/channelbot.png\" width=\"450px\" height=\"300px\"></img><br/>"
   ]
  },
  {
   "cell_type": "markdown",
   "metadata": {},
   "source": [
    "~공부용~\n",
    "\n",
    "## 개인 봇 만들기 (만드는 법)\n",
    "1. 텔레그램 접속 후 Botfather 검색\n",
    "2. /newbot\n",
    "3. 사용 할 이름 입력 \n",
    "4. 사용 할 이름 입력에 _bot 추가\n",
    "5. Token 저장\n",
    "6. Chat ID 확인방법\n",
    "- https://api.telegram.org/bot{YOURTELEGRAMTOKEN}/getUpdates\n",
    "- 생성된 봇 한테 HelloWorld라고 보낸다\n",
    "- chat_id:xxxxxxxx 확인한다."
   ]
  },
  {
   "cell_type": "code",
   "execution_count": null,
   "metadata": {},
   "outputs": [],
   "source": [
    "# 텔레그램 봇 라이브러리 설치 (python 파일)\n",
    "\n",
    "pip install python-telegram-bot --upgrade"
   ]
  },
  {
   "cell_type": "markdown",
   "metadata": {},
   "source": [
    "### 봇으로 메시지 보내는 코드\n",
    "[봇으로 메시지 보내기(message1.py)](./message1.py)"
   ]
  },
  {
   "cell_type": "markdown",
   "metadata": {},
   "source": [
    "## 채널 생성해서 봇 공유(만드는 법)\n",
    "\n",
    "1. 텔레그램 채널 생성 (New Channel)\n",
    "2. Public Channel (Channel id 획득위해)\n",
    "3. 자신이 만든 봇 추가\n"
   ]
  },
  {
   "cell_type": "markdown",
   "metadata": {},
   "source": [
    "### 채널로 메시지 보내는 코드\n",
    "[채널 id 획득전(message2.py)](./message2.py)\n",
    "### chat_id 확인 후 채널로 메시지 보내는 코드\n",
    "[채널 id 획득후(message3.py)](./message3.py)"
   ]
  }
 ],
 "metadata": {
  "kernelspec": {
   "display_name": "openai-env",
   "language": "python",
   "name": "python3"
  },
  "language_info": {
   "codemirror_mode": {
    "name": "ipython",
    "version": 3
   },
   "file_extension": ".py",
   "mimetype": "text/x-python",
   "name": "python",
   "nbconvert_exporter": "python",
   "pygments_lexer": "ipython3",
   "version": "3.8.5"
  }
 },
 "nbformat": 4,
 "nbformat_minor": 2
}
